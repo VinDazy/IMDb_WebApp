{
 "cells": [
  {
   "cell_type": "code",
   "execution_count": 2,
   "metadata": {},
   "outputs": [
    {
     "name": "stdout",
     "output_type": "stream",
     "text": [
      "{'entries': 3,\n",
      " 'next': None,\n",
      " 'page': 1,\n",
      " 'results': [{'_id': '61e59fa9ef99b1c54348a563',\n",
      "              'id': 'tt13499174',\n",
      "              'originalTitleText': {'__typename': 'TitleText',\n",
      "                                    'text': \"Five Nights at Freddy's\"},\n",
      "              'primaryImage': None,\n",
      "              'releaseDate': {'__typename': 'ReleaseDate',\n",
      "                              'day': 11,\n",
      "                              'month': 2,\n",
      "                              'year': 2018},\n",
      "              'releaseYear': {'__typename': 'YearRange',\n",
      "                              'endYear': None,\n",
      "                              'year': 2018},\n",
      "              'titleText': {'__typename': 'TitleText',\n",
      "                            'text': \"Five Nights at Freddy's\"},\n",
      "              'titleType': {'__typename': 'TitleType',\n",
      "                            'id': 'tvSeries',\n",
      "                            'isEpisode': False,\n",
      "                            'isSeries': True,\n",
      "                            'text': 'TV Series'}},\n",
      "             {'_id': '61e5cf1095801a78bc541525',\n",
      "              'id': 'tt8613196',\n",
      "              'originalTitleText': {'__typename': 'TitleText',\n",
      "                                    'text': \"Five Nights at Freddy's\"},\n",
      "              'primaryImage': None,\n",
      "              'releaseDate': {'__typename': 'ReleaseDate',\n",
      "                              'day': 27,\n",
      "                              'month': 4,\n",
      "                              'year': 2015},\n",
      "              'releaseYear': {'__typename': 'YearRange',\n",
      "                              'endYear': None,\n",
      "                              'year': 2015},\n",
      "              'titleText': {'__typename': 'TitleText',\n",
      "                            'text': \"Five Nights at Freddy's\"},\n",
      "              'titleType': {'__typename': 'TitleType',\n",
      "                            'id': 'tvEpisode',\n",
      "                            'isEpisode': True,\n",
      "                            'isSeries': False,\n",
      "                            'text': 'TV Episode'}},\n",
      "             {'_id': '61e5bce3cffb8f2faa4fbcb7',\n",
      "              'id': 'tt4214834',\n",
      "              'originalTitleText': {'__typename': 'TitleText',\n",
      "                                    'text': \"Five Nights at Freddy's\"},\n",
      "              'primaryImage': {'__typename': 'Image',\n",
      "                               'caption': {'__typename': 'Markdown',\n",
      "                                           'plainText': 'Five Nights at '\n",
      "                                                        \"Freddy's (2014)\"},\n",
      "                               'height': 900,\n",
      "                               'id': 'rm3011955457',\n",
      "                               'url': 'https://m.media-amazon.com/images/M/MV5BN2E3YTUyYjgtMDUzMS00YTBiLWJiMTAtMTNkODU1ZmE1ZmQ5XkEyXkFqcGdeQXVyMTI5MTc0OTIy._V1_.jpg',\n",
      "                               'width': 600},\n",
      "              'releaseDate': {'__typename': 'ReleaseDate',\n",
      "                              'day': 8,\n",
      "                              'month': 8,\n",
      "                              'year': 2014},\n",
      "              'releaseYear': {'__typename': 'YearRange',\n",
      "                              'endYear': None,\n",
      "                              'year': 2014},\n",
      "              'titleText': {'__typename': 'TitleText',\n",
      "                            'text': \"Five Nights at Freddy's\"},\n",
      "              'titleType': {'__typename': 'TitleType',\n",
      "                            'id': 'videoGame',\n",
      "                            'isEpisode': False,\n",
      "                            'isSeries': False,\n",
      "                            'text': 'Video Game'}}]}\n"
     ]
    }
   ],
   "source": [
    "import requests\n",
    "from pprint import pprint\n",
    "url = \"https://moviesdatabase.p.rapidapi.com/titles/search/akas/Five%20Nights%20at%20Freddy%27s\"\n",
    "headers = {\n",
    "\t\"X-RapidAPI-Key\": \"62b620fdabmsh9245da47d990846p1f3c48jsn3e6be629f08b\",\n",
    "\t\"X-RapidAPI-Host\": \"moviesdatabase.p.rapidapi.com\"\n",
    "}\n",
    "\n",
    "response = requests.get(url, headers=headers)\n",
    "\n",
    "pprint(response.json())"
   ]
  },
  {
   "cell_type": "markdown",
   "metadata": {},
   "source": [
    "to create requirements.txt file :\n",
    "in terminal type : pip freeze > requirements.txt\n"
   ]
  }
 ],
 "metadata": {
  "kernelspec": {
   "display_name": ".venv",
   "language": "python",
   "name": "python3"
  },
  "language_info": {
   "codemirror_mode": {
    "name": "ipython",
    "version": 3
   },
   "file_extension": ".py",
   "mimetype": "text/x-python",
   "name": "python",
   "nbconvert_exporter": "python",
   "pygments_lexer": "ipython3",
   "version": "3.11.4"
  },
  "orig_nbformat": 4
 },
 "nbformat": 4,
 "nbformat_minor": 2
}
